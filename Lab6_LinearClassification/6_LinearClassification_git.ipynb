{
 "cells": [
  {
   "cell_type": "markdown",
   "metadata": {},
   "source": [
    "# Linear Classification\n",
    "\n",
    "In this lab you will implement parts of a linear classification model using the regularized empirical risk minimization principle. By completing this lab and analysing the code, you gain deeper understanding of these type of models, and of gradient descent.\n",
    "\n",
    "\n",
    "## Problem Setting\n",
    "\n",
    "The dataset describes diagnosing of cardiac Single Proton Emission Computed Tomography (SPECT) images. Each of the patients is classified into two categories: normal (1) and abnormal (0). The training data contains 80 SPECT images from which 22 binary features have been extracted. The goal is to predict the label for an unseen test set of 187 tomography images."
   ]
  },
  {
   "cell_type": "code",
   "execution_count": 13,
   "metadata": {
    "scrolled": true
   },
   "outputs": [
    {
     "name": "stdout",
     "output_type": "stream",
     "text": [
      "The autoreload extension is already loaded. To reload it, use:\n",
      "  %reload_ext autoreload\n"
     ]
    }
   ],
   "source": [
    "import urllib\n",
    "import pandas as pd\n",
    "import numpy as np\n",
    "%load_ext autoreload\n",
    "%autoreload 2\n",
    "\n",
    "testfile = urllib.request.URLopener()\n",
    "testfile.retrieve(\"http://archive.ics.uci.edu/ml/machine-learning-databases/spect/SPECT.train\", \"SPECT.train\")\n",
    "testfile.retrieve(\"http://archive.ics.uci.edu/ml/machine-learning-databases/spect/SPECT.test\", \"SPECT.test\")\n",
    "\n",
    "df_train = pd.read_csv('SPECT.train',header=None)\n",
    "df_test = pd.read_csv('SPECT.test',header=None)\n",
    "\n",
    "train = df_train.values\n",
    "test = df_test.values\n",
    "\n",
    "y_train = train[:,0]\n",
    "X_train = train[:,1:]\n",
    "y_test = test[:,0]\n",
    "X_test = test[:,1:]"
   ]
  },
  {
   "cell_type": "markdown",
   "metadata": {},
   "source": [
    "### Exercise 1\n",
    "\n",
    "Analyze the function learn_reg_ERM(X,y,lambda) which for a given $n\\times m$ data matrix $\\textbf{X}$ and binary class label $\\textbf{y}$ learns and returns a linear model $\\textbf{w}$.\n",
    "The binary class label has to be transformed so that its range is $\\left \\{-1,1 \\right \\}$. \n",
    "The trade-off parameter between the empirical loss and the regularizer is given by $\\lambda > 0$. \n",
    "To adapt the learning rate the Barzilai-Borwein method is used.\n",
    "\n",
    "Try to understand each step of the learning algorithm and comment each line.\n"
   ]
  },
  {
   "cell_type": "code",
   "execution_count": 6,
   "metadata": {},
   "outputs": [],
   "source": [
    "def learn_reg_ERM(X,y,lbda):\n",
    "    max_iter = 200 # even if the algorithm doesn't converge, we want to terminate it/find a solution after max_iter\n",
    "    e  = 0.001 # set the step size, quantity of change between \"old\" and \"new\" model\n",
    "    alpha = 1. # use inexact line search \n",
    "\n",
    "    w = np.random.randn(X.shape[1]); # create a random normally distributed weight vector w\n",
    "    for k in np.arange(max_iter):\n",
    "        h = np.dot(X,w) # apply the weight vector w to the training data (via computing the dot product) \n",
    "        l,lg = loss(h, y) # compute loss between weighted data and label and compute the corresponding loss gradient\n",
    "        print ('loss: {}'.format(np.mean(l))) # print the current mean loss \n",
    "        r,rg = reg(w, lbda) # compute the L2-regularizer and the gradient of the regularizer function, regularize the model\n",
    "        g = np.dot(X.T,lg) + rg \n",
    "        if (k > 0):\n",
    "            alpha = alpha * (np.dot(g_old.T,g_old))/(np.dot((g_old - g).T,g_old)) \n",
    "            print('alpha: ' + str(alpha))\n",
    "        w = w - alpha * g\n",
    "        if (np.linalg.norm(alpha * g) < e):\n",
    "            break\n",
    "        g_old = g\n",
    "    return w"
   ]
  },
  {
   "cell_type": "markdown",
   "metadata": {},
   "source": [
    "### Exercise 2\n",
    "\n",
    "Fill in the code for the function loss(h,y) which computes the hinge loss and its gradient. \n",
    "This function takes a given vector $\\textbf{y}$ with the true labels $\\in \\left \\{-1,1\\right \\}$ and a vector $\\textbf{h}$ with the function values of the linear model as inputs. The function returns a vector $\\textbf{l}$ with the hinge loss $\\max(0, 1 − y_{i} h_{i})$ and a vector $\\textbf{g}$ with the gradients of the hinge loss w.r.t $\\textbf{h}$. (Note: The partial derivative of the hinge loss with respect to $\\textbf{h}$  is $g_{i} = −y $ if $l_{i} > 0$, else $g_{i} = 0$)"
   ]
  },
  {
   "cell_type": "code",
   "execution_count": 2,
   "metadata": {},
   "outputs": [],
   "source": [
    "def loss(h, y):\n",
    "    if1 = 1 - np.multiply(h, y) # 1 - y*f(x)\n",
    "    l = np.where(if1 > 0, if1, 0) #loss function\n",
    "    g = - y # gradients\n",
    "    return l, g"
   ]
  },
  {
   "cell_type": "markdown",
   "metadata": {},
   "source": [
    "### Exercise 3\n",
    "\n",
    "Fill in the code for the function reg(w,lambda) which computes the $\\mathcal{L}_2$-regularizer and the gradient of the regularizer function at point $\\textbf{w}$. \n",
    "\n",
    "\n",
    "$$r = \\frac{\\lambda}{2} \\textbf{w}^{T}\\textbf{w}$$\n",
    "\n",
    "$$g = \\lambda \\textbf{w}$$"
   ]
  },
  {
   "cell_type": "code",
   "execution_count": 3,
   "metadata": {},
   "outputs": [],
   "source": [
    "def reg(w, lbda):\n",
    "    r = (lbda/2)*np.dot(w.T, w)\n",
    "    g = lbda*w\n",
    "    return r, g"
   ]
  },
  {
   "cell_type": "markdown",
   "metadata": {},
   "source": [
    "### Exercise 4\n",
    "\n",
    "Fill in the code for the function predict(w,x) which predicts the class label $y$ for a data point $\\textbf{x}$ or a matrix $X$ of data points (row-wise) for a previously trained linear model $\\textbf{w}$. If there is only a data point given, the function is supposed to return a scalar value. If a matrix is given a vector of predictions is supposed to be returned."
   ]
  },
  {
   "cell_type": "code",
   "execution_count": 4,
   "metadata": {},
   "outputs": [],
   "source": [
    "def predict(w, X):\n",
    "    preds = 2*(np.dot(X, w) > 0) - 1\n",
    "    return preds"
   ]
  },
  {
   "cell_type": "markdown",
   "metadata": {},
   "source": [
    "### Exercise 5\n",
    "\n",
    "#### 5.1 \n",
    "Train a linear model on the training data and classify all 187 test instances afterwards using the function predict. \n",
    "Please note that the given class labels are in the range $\\left \\{0,1 \\right \\}$, however the learning algorithm expects a label in the range of $\\left \\{-1,1 \\right \\}$. Then, compute the accuracy of your trained linear model on both the training and the test data. "
   ]
  },
  {
   "cell_type": "code",
   "execution_count": 14,
   "metadata": {},
   "outputs": [
    {
     "name": "stdout",
     "output_type": "stream",
     "text": [
      "loss: 2.2495144509007745\n",
      "loss: 10.880499515806449\n",
      "alpha: 2.0\n",
      "loss: 21.675\n",
      "alpha: 2.0\n",
      "y-predicted: [ 1  1  1  1  1  1  1  1  1  1  1  1  1  1  1  1  1  1  1  1  1  1  1  1\n",
      "  1  1  1  1  1  1 -1 -1  1  1  1  1  1  1  1  1  1  1  1  1  1  1  1  1\n",
      " -1  1  1 -1 -1  1  1  1  1  1 -1 -1  1 -1  1 -1 -1 -1  1 -1  1 -1  1  1\n",
      "  1  1 -1  1  1  1  1  1]\n",
      "y-Train: [1 1 1 1 1 1 1 1 1 1 1 1 1 1 1 1 1 1 1 1 1 1 1 1 1 1 1 1 1 1 1 1 1 1 1 1 1\n",
      " 1 1 1 0 0 0 0 0 0 0 0 0 0 0 0 0 0 0 0 0 0 0 0 0 0 0 0 0 0 0 0 0 0 0 0 0 0\n",
      " 0 0 0 0 0 0]\n",
      "Accuracy train: 0.625\n",
      "loss: 1.5015545529652723\n",
      "loss: 15.360509491620183\n",
      "alpha: 2.0\n",
      "loss: 30.62566844919786\n",
      "alpha: 2.0\n",
      "Accuracy train:0.9358288770053476\n"
     ]
    }
   ],
   "source": [
    "# convert the labels\n",
    "from sklearn.metrics import accuracy_score\n",
    "\n",
    "y_train_n = np.array([-1 if y_i==0 else y_i for y_i in y_train])\n",
    "y_pred_train  = predict(learn_reg_ERM(X_train, y_train_n, 0.5), X_train)\n",
    "\n",
    "print(f\"y-predicted:\", y_pred_train)\n",
    "print(f\"y-Train:\", y_train)\n",
    "print(f\"Accuracy train:\", accuracy_score(y_train_n, y_pred_train))\n",
    "\n",
    "y_test_n = np.array([-1 if y_i==0 else y_i for y_i in y_test])\n",
    "y_pred_test  = predict(learn_reg_ERM(X_test, y_test_n, 0.5), X_test)\n",
    "print(f\"Accuracy train:{accuracy_score(y_test_n, y_pred_test)}\")"
   ]
  },
  {
   "cell_type": "markdown",
   "metadata": {},
   "source": [
    "#### 5.2\n",
    "Compare the accuracy of the linear model with the accuracy of a random forest and a decision tree on the training and test data set."
   ]
  },
  {
   "cell_type": "code",
   "execution_count": 15,
   "metadata": {},
   "outputs": [
    {
     "name": "stdout",
     "output_type": "stream",
     "text": [
      "0.7700534759358288\n",
      "0.6951871657754011\n"
     ]
    }
   ],
   "source": [
    "from sklearn.ensemble import RandomForestClassifier\n",
    "# train a random forest\n",
    "rndm_clf = RandomForestClassifier()\n",
    "rndm_clf.fit(X_train, y_train)\n",
    "print(rndm_clf.score(X_test, y_test))\n",
    "\n",
    "from sklearn.tree import DecisionTreeClassifier\n",
    "\n",
    "dcsn_clf = DecisionTreeClassifier()\n",
    "dcsn_clf.fit(X_train, y_train)\n",
    "print(dcsn_clf.score(X_test, y_test))"
   ]
  }
 ],
 "metadata": {
  "kernelspec": {
   "display_name": "Python 3 (ipykernel)",
   "language": "python",
   "name": "python3"
  },
  "language_info": {
   "codemirror_mode": {
    "name": "ipython",
    "version": 3
   },
   "file_extension": ".py",
   "mimetype": "text/x-python",
   "name": "python",
   "nbconvert_exporter": "python",
   "pygments_lexer": "ipython3",
   "version": "3.9.16"
  }
 },
 "nbformat": 4,
 "nbformat_minor": 1
}
